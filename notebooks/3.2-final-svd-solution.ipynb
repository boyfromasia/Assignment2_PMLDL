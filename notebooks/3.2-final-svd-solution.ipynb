{
 "cells": [
  {
   "cell_type": "code",
   "execution_count": 70,
   "id": "initial_id",
   "metadata": {
    "collapsed": true,
    "ExecuteTime": {
     "end_time": "2023-12-03T05:59:18.712903400Z",
     "start_time": "2023-12-03T05:59:18.698905100Z"
    }
   },
   "outputs": [],
   "source": [
    "import os\n",
    "import pickle\n",
    "import pandas as pd\n",
    "import numpy as np\n",
    "from collections import defaultdict\n",
    "from surprise import SVD, Dataset, Reader\n",
    "from surprise.model_selection import train_test_split\n",
    "from surprise import accuracy\n",
    "\n",
    "RAW_PATH = \"../data/raw/\"\n",
    "INTERIM_PATH = \"../data/interim/\"\n",
    "MODELS_PATH = \"../models/\"\n",
    "SEED = 42"
   ]
  },
  {
   "cell_type": "markdown",
   "source": [
    "# Data preparation"
   ],
   "metadata": {
    "collapsed": false
   },
   "id": "fb3ad1c144c6ebf8"
  },
  {
   "cell_type": "code",
   "execution_count": 64,
   "outputs": [
    {
     "data": {
      "text/plain": "   user_id  movie_id  rating\n0      196       242       3\n1      186       302       3\n2       22       377       1\n3      244        51       2\n4      166       346       1",
      "text/html": "<div>\n<style scoped>\n    .dataframe tbody tr th:only-of-type {\n        vertical-align: middle;\n    }\n\n    .dataframe tbody tr th {\n        vertical-align: top;\n    }\n\n    .dataframe thead th {\n        text-align: right;\n    }\n</style>\n<table border=\"1\" class=\"dataframe\">\n  <thead>\n    <tr style=\"text-align: right;\">\n      <th></th>\n      <th>user_id</th>\n      <th>movie_id</th>\n      <th>rating</th>\n    </tr>\n  </thead>\n  <tbody>\n    <tr>\n      <th>0</th>\n      <td>196</td>\n      <td>242</td>\n      <td>3</td>\n    </tr>\n    <tr>\n      <th>1</th>\n      <td>186</td>\n      <td>302</td>\n      <td>3</td>\n    </tr>\n    <tr>\n      <th>2</th>\n      <td>22</td>\n      <td>377</td>\n      <td>1</td>\n    </tr>\n    <tr>\n      <th>3</th>\n      <td>244</td>\n      <td>51</td>\n      <td>2</td>\n    </tr>\n    <tr>\n      <th>4</th>\n      <td>166</td>\n      <td>346</td>\n      <td>1</td>\n    </tr>\n  </tbody>\n</table>\n</div>"
     },
     "execution_count": 64,
     "metadata": {},
     "output_type": "execute_result"
    }
   ],
   "source": [
    "data_cols = ['user_id', 'item_id', 'rating', 'timestamp']\n",
    "df = pd.read_csv(os.path.join(INTERIM_PATH, \"svd_dataset.csv\"), index_col=0)\n",
    "df.head()"
   ],
   "metadata": {
    "collapsed": false,
    "ExecuteTime": {
     "end_time": "2023-12-03T05:49:45.692684500Z",
     "start_time": "2023-12-03T05:49:45.659684900Z"
    }
   },
   "id": "cbd530189e73a09f"
  },
  {
   "cell_type": "code",
   "execution_count": 65,
   "outputs": [],
   "source": [
    "reader = Reader(line_format='user item rating', rating_scale=(1, 5))\n",
    "data = Dataset.load_from_df(df, reader)\n",
    "\n",
    "trainset, testset =  train_test_split(data, test_size=0.20, random_state=SEED)"
   ],
   "metadata": {
    "collapsed": false,
    "ExecuteTime": {
     "end_time": "2023-12-03T05:49:45.832683800Z",
     "start_time": "2023-12-03T05:49:45.754685600Z"
    }
   },
   "id": "e65f1154804e7a97"
  },
  {
   "cell_type": "markdown",
   "source": [
    "# Training model"
   ],
   "metadata": {
    "collapsed": false
   },
   "id": "1c546968fedc74"
  },
  {
   "cell_type": "code",
   "execution_count": 66,
   "outputs": [
    {
     "data": {
      "text/plain": "<surprise.prediction_algorithms.matrix_factorization.SVD at 0x1f589ca1300>"
     },
     "execution_count": 66,
     "metadata": {},
     "output_type": "execute_result"
    }
   ],
   "source": [
    "algo = SVD(random_state=SEED)\n",
    "algo.fit(trainset)"
   ],
   "metadata": {
    "collapsed": false,
    "ExecuteTime": {
     "end_time": "2023-12-03T05:49:46.600766900Z",
     "start_time": "2023-12-03T05:49:45.834681700Z"
    }
   },
   "id": "52d584ff8f9d152c"
  },
  {
   "cell_type": "markdown",
   "source": [
    "# Evaluation"
   ],
   "metadata": {
    "collapsed": false
   },
   "id": "6056bef798b79ebf"
  },
  {
   "cell_type": "code",
   "execution_count": 67,
   "outputs": [],
   "source": [
    "def precision_recall_at_k(predictions, k=10, threshold=3.5):\n",
    "    \"\"\"Return precision and recall at k metrics for each user\"\"\"\n",
    "\n",
    "    # First map the predictions to each user.\n",
    "    user_est_true = defaultdict(list)\n",
    "    for uid, _, true_r, est, _ in predictions:\n",
    "        user_est_true[uid].append((est, true_r))\n",
    "\n",
    "    precisions = dict()\n",
    "    recalls = dict()\n",
    "    for uid, user_ratings in user_est_true.items():\n",
    "\n",
    "        # Sort user ratings by estimated value\n",
    "        user_ratings.sort(key=lambda x: x[0], reverse=True)\n",
    "\n",
    "        # Number of relevant items\n",
    "        n_rel = sum((true_r >= threshold) for (_, true_r) in user_ratings)\n",
    "\n",
    "        # Number of recommended items in top k\n",
    "        n_rec_k = sum((est >= threshold) for (est, _) in user_ratings[:k])\n",
    "\n",
    "        # Number of relevant and recommended items in top k\n",
    "        n_rel_and_rec_k = sum(\n",
    "            ((true_r >= threshold) and (est >= threshold))\n",
    "            for (est, true_r) in user_ratings[:k]\n",
    "        )\n",
    "\n",
    "        # Precision@K: Proportion of recommended items that are relevant\n",
    "        # When n_rec_k is 0, Precision is undefined. We here set it to 0.\n",
    "\n",
    "        precisions[uid] = n_rel_and_rec_k / n_rec_k if n_rec_k != 0 else 0\n",
    "\n",
    "        # Recall@K: Proportion of relevant items that are recommended\n",
    "        # When n_rel is 0, Recall is undefined. We here set it to 0.\n",
    "\n",
    "        recalls[uid] = n_rel_and_rec_k / n_rel if n_rel != 0 else 0\n",
    "\n",
    "    return precisions, recalls"
   ],
   "metadata": {
    "collapsed": false,
    "ExecuteTime": {
     "end_time": "2023-12-03T05:49:46.642766500Z",
     "start_time": "2023-12-03T05:49:46.600766900Z"
    }
   },
   "id": "34dcd4600efaa2d2"
  },
  {
   "cell_type": "code",
   "execution_count": 99,
   "outputs": [
    {
     "name": "stdout",
     "output_type": "stream",
     "text": [
      "MSE: 0.8745\n",
      "RMSE: 0.9352\n",
      "Precision at K: 0.9059\n",
      "Recall at K: 0.6365\n"
     ]
    }
   ],
   "source": [
    "predictions = algo.test(testset)\n",
    "precisions, recalls = precision_recall_at_k(predictions, k=10, threshold=3)\n",
    "\n",
    "accuracy.mse(predictions)\n",
    "accuracy.rmse(predictions)\n",
    "print(f\"Precision at K: {round(sum(prec for prec in precisions.values()) / len(precisions), 4)}\")\n",
    "print(f\"Recall at K: {round(sum(rec for rec in recalls.values()) / len(recalls), 4)}\")\n"
   ],
   "metadata": {
    "collapsed": false,
    "ExecuteTime": {
     "end_time": "2023-12-03T17:31:58.409295800Z",
     "start_time": "2023-12-03T17:31:58.281292600Z"
    }
   },
   "id": "576f3231935c07d4"
  },
  {
   "cell_type": "markdown",
   "source": [
    "# Make Recomendation"
   ],
   "metadata": {
    "collapsed": false
   },
   "id": "e7b7620728092695"
  },
  {
   "cell_type": "code",
   "execution_count": 71,
   "outputs": [],
   "source": [
    "item_cols = ['movie_id', 'movie_title', 'release_date', 'video_release_date', 'imdb_url', 'unknown', 'action', 'adventure', 'animation', 'childrens', 'comedy', 'crime', 'documentary', 'drama', 'fantasy', 'film-noir', 'horror', 'musical', 'mystery', 'romance', 'sci-fi', 'thriller', 'war', 'western']\n",
    "items = pd.read_csv(os.path.join(RAW_PATH, \"u.item\"), sep=\"|\", names=item_cols, encoding='latin-1')"
   ],
   "metadata": {
    "collapsed": false,
    "ExecuteTime": {
     "end_time": "2023-12-03T06:00:19.373414800Z",
     "start_time": "2023-12-03T06:00:19.340416500Z"
    }
   },
   "id": "edee74fba6adea38"
  },
  {
   "cell_type": "code",
   "execution_count": 90,
   "outputs": [],
   "source": [
    "def make_recommendation(user_id, top_k, model):\n",
    "    \"\"\"Make recommendation of k movies for specific user\"\"\"\n",
    "    \n",
    "    # take unseen movies for specific user\n",
    "    all_movies = set(items['movie_id'].tolist())\n",
    "    watched_movies = set(df[df['user_id'] == user_id]['movie_id'].tolist())\n",
    "    unseen_movies = all_movies - watched_movies\n",
    "\n",
    "    # make prediction\n",
    "    ans = []\n",
    "    for movie in unseen_movies:\n",
    "        ans.append((movie, model.predict(user_id, movie).est))\n",
    "    ans = sorted(ans, key=lambda x: x[1], reverse=True)\n",
    "    ans = [items[items['movie_id'] == x[0]]['movie_title'].item() for x in ans[:top_k]]\n",
    "    \n",
    "    return ans"
   ],
   "metadata": {
    "collapsed": false,
    "ExecuteTime": {
     "end_time": "2023-12-03T06:08:59.766884300Z",
     "start_time": "2023-12-03T06:08:59.754884200Z"
    }
   },
   "id": "9405ad8d7c0a57e1"
  },
  {
   "cell_type": "code",
   "execution_count": 97,
   "outputs": [
    {
     "name": "stdout",
     "output_type": "stream",
     "text": [
      "Recommendations for user_id - 457\n",
      "1. Lone Star (1996)\n",
      "2. Godfather: Part II, The (1974)\n",
      "3. Titanic (1997)\n",
      "4. Boot, Das (1981)\n",
      "5. Rear Window (1954)\n",
      "6. Raise the Red Lantern (1991)\n",
      "7. Lawrence of Arabia (1962)\n",
      "8. North by Northwest (1959)\n",
      "9. Close Shave, A (1995)\n",
      "10. To Kill a Mockingbird (1962)\n"
     ]
    }
   ],
   "source": [
    "user_id = np.random.choice(df['user_id'].tolist())\n",
    "\n",
    "print(f\"Recommendations for user_id - {user_id}\")\n",
    "for idx, movie_name in enumerate(make_recommendation(user_id, 10, algo), 1):\n",
    "    print(f\"{idx}. {movie_name}\")"
   ],
   "metadata": {
    "collapsed": false,
    "ExecuteTime": {
     "end_time": "2023-12-03T06:10:41.470223400Z",
     "start_time": "2023-12-03T06:10:41.423227800Z"
    }
   },
   "id": "9108b6ce37a2b9a5"
  },
  {
   "cell_type": "markdown",
   "source": [
    "# Save model"
   ],
   "metadata": {
    "collapsed": false
   },
   "id": "67b3553650114859"
  },
  {
   "cell_type": "code",
   "execution_count": 69,
   "outputs": [],
   "source": [
    "with open(os.path.join(MODELS_PATH, 'SVD.pkl'),'wb') as f:\n",
    "    pickle.dump(algo, f)"
   ],
   "metadata": {
    "collapsed": false,
    "ExecuteTime": {
     "end_time": "2023-12-03T05:49:46.799766Z",
     "start_time": "2023-12-03T05:49:46.740768100Z"
    }
   },
   "id": "22cc6a48677e17a4"
  }
 ],
 "metadata": {
  "kernelspec": {
   "display_name": "Python 3",
   "language": "python",
   "name": "python3"
  },
  "language_info": {
   "codemirror_mode": {
    "name": "ipython",
    "version": 2
   },
   "file_extension": ".py",
   "mimetype": "text/x-python",
   "name": "python",
   "nbconvert_exporter": "python",
   "pygments_lexer": "ipython2",
   "version": "2.7.6"
  }
 },
 "nbformat": 4,
 "nbformat_minor": 5
}
