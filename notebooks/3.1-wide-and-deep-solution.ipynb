{
 "cells": [
  {
   "cell_type": "code",
   "execution_count": 5,
   "outputs": [],
   "source": [
    "import os\n",
    "\n",
    "from matplotlib import pyplot as plt\n",
    "\n",
    "import numpy as np\n",
    "import pandas as pd\n",
    "import pickle\n",
    "\n",
    "import torch\n",
    "import torch.nn as nn\n",
    "\n",
    "SEED = 42\n",
    "torch.manual_seed(SEED)\n",
    "np.random.seed(SEED)\n",
    "\n",
    "INTERIM_PATH = \"../data/interim/\"\n",
    "MODELS_PATH = \"../models/\"\n",
    "PATH_SAVE_FIGURES = \"../reports/figures/\""
   ],
   "metadata": {
    "collapsed": false,
    "ExecuteTime": {
     "end_time": "2023-12-03T05:40:36.378530800Z",
     "start_time": "2023-12-03T05:40:35.895532200Z"
    }
   },
   "id": "cb9ef355ccbd5a5b"
  },
  {
   "cell_type": "markdown",
   "source": [
    "# Prepare data for training"
   ],
   "metadata": {
    "collapsed": false
   },
   "id": "16ed721a4db54fb0"
  },
  {
   "cell_type": "code",
   "execution_count": 6,
   "outputs": [],
   "source": [
    "df_wide = pd.read_csv(os.path.join(INTERIM_PATH, \"wide_and_deep_df_wide.csv\"), index_col=0)\n",
    "df_deep = pd.read_csv(os.path.join(INTERIM_PATH, \"wide_and_deep_df_deep.csv\"), index_col=0)\n",
    "\n",
    "with open(os.path.join(INTERIM_PATH, 'wide_and_deep_X_train.pkl'), 'rb') as f:\n",
    "    wide_inputs_train, categorical_input_1_train, categorical_input_2_train, categorical_input_3_train, numerical_input_train = pickle.load(f)\n",
    "    \n",
    "with open(os.path.join(INTERIM_PATH, 'wide_and_deep_X_test.pkl'), 'rb') as f:\n",
    "   wide_inputs_test, categorical_input_1_test,categorical_input_2_test, categorical_input_3_test, numerical_input_test = pickle.load(f)\n",
    "   \n",
    "with open(os.path.join(INTERIM_PATH, 'wide_and_deep_Y_train.pkl'), 'rb') as f:\n",
    "   y_train = pickle.load(f)\n",
    "   \n",
    "with open(os.path.join(INTERIM_PATH, 'wide_and_deep_Y_test.pkl'), 'rb') as f:\n",
    "   y_test = pickle.load(f)\n",
    "   \n",
    "wide_inputs_train, categorical_input_1_train, categorical_input_2_train, categorical_input_3_train, numerical_input_train = torch.Tensor(wide_inputs_train), torch.Tensor(categorical_input_1_train).type(torch.int64), torch.Tensor(categorical_input_2_train).type(torch.int64), torch.Tensor(categorical_input_3_train).type(torch.int64), torch.Tensor(numerical_input_train)\n",
    "\n",
    "wide_inputs_test, categorical_input_1_test,categorical_input_2_test, categorical_input_3_test, numerical_input_test = torch.Tensor(wide_inputs_test), torch.Tensor(categorical_input_1_test).type(torch.int64), torch.Tensor(categorical_input_2_test).type(torch.int64), torch.Tensor(categorical_input_3_test).type(torch.int64), torch.Tensor(numerical_input_test)\n",
    "\n",
    "y_train, y_test = torch.Tensor(y_train), torch.Tensor(y_test)\n"
   ],
   "metadata": {
    "collapsed": false,
    "ExecuteTime": {
     "end_time": "2023-12-03T05:40:36.642533600Z",
     "start_time": "2023-12-03T05:40:36.386534800Z"
    }
   },
   "id": "dfbe176262182ac8"
  },
  {
   "cell_type": "code",
   "execution_count": 12,
   "outputs": [
    {
     "data": {
      "text/plain": "       gender_occupation_F_administrator  gender_occupation_F_artist  \\\n0                                    0.0                         0.0   \n1                                    0.0                         0.0   \n2                                    0.0                         0.0   \n3                                    0.0                         0.0   \n4                                    0.0                         0.0   \n...                                  ...                         ...   \n99995                                0.0                         0.0   \n99996                                0.0                         0.0   \n99997                                0.0                         0.0   \n99998                                0.0                         0.0   \n99999                                0.0                         0.0   \n\n       gender_occupation_F_educator  gender_occupation_F_engineer  \\\n0                               0.0                           0.0   \n1                               0.0                           0.0   \n2                               0.0                           0.0   \n3                               0.0                           0.0   \n4                               0.0                           0.0   \n...                             ...                           ...   \n99995                           0.0                           0.0   \n99996                           0.0                           0.0   \n99997                           0.0                           0.0   \n99998                           0.0                           0.0   \n99999                           0.0                           0.0   \n\n       gender_occupation_F_entertainment  gender_occupation_F_executive  \\\n0                                    0.0                            0.0   \n1                                    0.0                            0.0   \n2                                    0.0                            0.0   \n3                                    0.0                            0.0   \n4                                    0.0                            0.0   \n...                                  ...                            ...   \n99995                                0.0                            0.0   \n99996                                0.0                            0.0   \n99997                                0.0                            0.0   \n99998                                0.0                            0.0   \n99999                                0.0                            0.0   \n\n       gender_occupation_F_healthcare  gender_occupation_F_homemaker  \\\n0                                 0.0                            0.0   \n1                                 0.0                            0.0   \n2                                 0.0                            0.0   \n3                                 0.0                            0.0   \n4                                 0.0                            0.0   \n...                               ...                            ...   \n99995                             0.0                            0.0   \n99996                             0.0                            0.0   \n99997                             0.0                            0.0   \n99998                             0.0                            0.0   \n99999                             0.0                            0.0   \n\n       gender_occupation_F_lawyer  gender_occupation_F_librarian  ...  \\\n0                             0.0                            0.0  ...   \n1                             0.0                            0.0  ...   \n2                             0.0                            0.0  ...   \n3                             0.0                            0.0  ...   \n4                             0.0                            0.0  ...   \n...                           ...                            ...  ...   \n99995                         0.0                            0.0  ...   \n99996                         0.0                            0.0  ...   \n99997                         0.0                            0.0  ...   \n99998                         0.0                            0.0  ...   \n99999                         0.0                            0.0  ...   \n\n       gender_occupation_M_marketing  gender_occupation_M_none  \\\n0                                0.0                       0.0   \n1                                0.0                       0.0   \n2                                0.0                       0.0   \n3                                0.0                       0.0   \n4                                0.0                       0.0   \n...                              ...                       ...   \n99995                            0.0                       0.0   \n99996                            0.0                       0.0   \n99997                            0.0                       0.0   \n99998                            0.0                       0.0   \n99999                            0.0                       0.0   \n\n       gender_occupation_M_other  gender_occupation_M_programmer  \\\n0                            0.0                             0.0   \n1                            0.0                             0.0   \n2                            0.0                             0.0   \n3                            0.0                             0.0   \n4                            0.0                             0.0   \n...                          ...                             ...   \n99995                        0.0                             0.0   \n99996                        0.0                             0.0   \n99997                        0.0                             0.0   \n99998                        0.0                             0.0   \n99999                        0.0                             0.0   \n\n       gender_occupation_M_retired  gender_occupation_M_salesman  \\\n0                              1.0                           0.0   \n1                              1.0                           0.0   \n2                              1.0                           0.0   \n3                              1.0                           0.0   \n4                              1.0                           0.0   \n...                            ...                           ...   \n99995                          0.0                           0.0   \n99996                          0.0                           0.0   \n99997                          0.0                           0.0   \n99998                          0.0                           0.0   \n99999                          0.0                           0.0   \n\n       gender_occupation_M_scientist  gender_occupation_M_student  \\\n0                                0.0                          0.0   \n1                                0.0                          0.0   \n2                                0.0                          0.0   \n3                                0.0                          0.0   \n4                                0.0                          0.0   \n...                              ...                          ...   \n99995                            0.0                          1.0   \n99996                            0.0                          1.0   \n99997                            0.0                          1.0   \n99998                            0.0                          1.0   \n99999                            0.0                          1.0   \n\n       gender_occupation_M_technician  gender_occupation_M_writer  \n0                                 0.0                         0.0  \n1                                 0.0                         0.0  \n2                                 0.0                         0.0  \n3                                 0.0                         0.0  \n4                                 0.0                         0.0  \n...                               ...                         ...  \n99995                             0.0                         0.0  \n99996                             0.0                         0.0  \n99997                             0.0                         0.0  \n99998                             0.0                         0.0  \n99999                             0.0                         0.0  \n\n[100000 rows x 41 columns]",
      "text/html": "<div>\n<style scoped>\n    .dataframe tbody tr th:only-of-type {\n        vertical-align: middle;\n    }\n\n    .dataframe tbody tr th {\n        vertical-align: top;\n    }\n\n    .dataframe thead th {\n        text-align: right;\n    }\n</style>\n<table border=\"1\" class=\"dataframe\">\n  <thead>\n    <tr style=\"text-align: right;\">\n      <th></th>\n      <th>gender_occupation_F_administrator</th>\n      <th>gender_occupation_F_artist</th>\n      <th>gender_occupation_F_educator</th>\n      <th>gender_occupation_F_engineer</th>\n      <th>gender_occupation_F_entertainment</th>\n      <th>gender_occupation_F_executive</th>\n      <th>gender_occupation_F_healthcare</th>\n      <th>gender_occupation_F_homemaker</th>\n      <th>gender_occupation_F_lawyer</th>\n      <th>gender_occupation_F_librarian</th>\n      <th>...</th>\n      <th>gender_occupation_M_marketing</th>\n      <th>gender_occupation_M_none</th>\n      <th>gender_occupation_M_other</th>\n      <th>gender_occupation_M_programmer</th>\n      <th>gender_occupation_M_retired</th>\n      <th>gender_occupation_M_salesman</th>\n      <th>gender_occupation_M_scientist</th>\n      <th>gender_occupation_M_student</th>\n      <th>gender_occupation_M_technician</th>\n      <th>gender_occupation_M_writer</th>\n    </tr>\n  </thead>\n  <tbody>\n    <tr>\n      <th>0</th>\n      <td>0.0</td>\n      <td>0.0</td>\n      <td>0.0</td>\n      <td>0.0</td>\n      <td>0.0</td>\n      <td>0.0</td>\n      <td>0.0</td>\n      <td>0.0</td>\n      <td>0.0</td>\n      <td>0.0</td>\n      <td>...</td>\n      <td>0.0</td>\n      <td>0.0</td>\n      <td>0.0</td>\n      <td>0.0</td>\n      <td>1.0</td>\n      <td>0.0</td>\n      <td>0.0</td>\n      <td>0.0</td>\n      <td>0.0</td>\n      <td>0.0</td>\n    </tr>\n    <tr>\n      <th>1</th>\n      <td>0.0</td>\n      <td>0.0</td>\n      <td>0.0</td>\n      <td>0.0</td>\n      <td>0.0</td>\n      <td>0.0</td>\n      <td>0.0</td>\n      <td>0.0</td>\n      <td>0.0</td>\n      <td>0.0</td>\n      <td>...</td>\n      <td>0.0</td>\n      <td>0.0</td>\n      <td>0.0</td>\n      <td>0.0</td>\n      <td>1.0</td>\n      <td>0.0</td>\n      <td>0.0</td>\n      <td>0.0</td>\n      <td>0.0</td>\n      <td>0.0</td>\n    </tr>\n    <tr>\n      <th>2</th>\n      <td>0.0</td>\n      <td>0.0</td>\n      <td>0.0</td>\n      <td>0.0</td>\n      <td>0.0</td>\n      <td>0.0</td>\n      <td>0.0</td>\n      <td>0.0</td>\n      <td>0.0</td>\n      <td>0.0</td>\n      <td>...</td>\n      <td>0.0</td>\n      <td>0.0</td>\n      <td>0.0</td>\n      <td>0.0</td>\n      <td>1.0</td>\n      <td>0.0</td>\n      <td>0.0</td>\n      <td>0.0</td>\n      <td>0.0</td>\n      <td>0.0</td>\n    </tr>\n    <tr>\n      <th>3</th>\n      <td>0.0</td>\n      <td>0.0</td>\n      <td>0.0</td>\n      <td>0.0</td>\n      <td>0.0</td>\n      <td>0.0</td>\n      <td>0.0</td>\n      <td>0.0</td>\n      <td>0.0</td>\n      <td>0.0</td>\n      <td>...</td>\n      <td>0.0</td>\n      <td>0.0</td>\n      <td>0.0</td>\n      <td>0.0</td>\n      <td>1.0</td>\n      <td>0.0</td>\n      <td>0.0</td>\n      <td>0.0</td>\n      <td>0.0</td>\n      <td>0.0</td>\n    </tr>\n    <tr>\n      <th>4</th>\n      <td>0.0</td>\n      <td>0.0</td>\n      <td>0.0</td>\n      <td>0.0</td>\n      <td>0.0</td>\n      <td>0.0</td>\n      <td>0.0</td>\n      <td>0.0</td>\n      <td>0.0</td>\n      <td>0.0</td>\n      <td>...</td>\n      <td>0.0</td>\n      <td>0.0</td>\n      <td>0.0</td>\n      <td>0.0</td>\n      <td>1.0</td>\n      <td>0.0</td>\n      <td>0.0</td>\n      <td>0.0</td>\n      <td>0.0</td>\n      <td>0.0</td>\n    </tr>\n    <tr>\n      <th>...</th>\n      <td>...</td>\n      <td>...</td>\n      <td>...</td>\n      <td>...</td>\n      <td>...</td>\n      <td>...</td>\n      <td>...</td>\n      <td>...</td>\n      <td>...</td>\n      <td>...</td>\n      <td>...</td>\n      <td>...</td>\n      <td>...</td>\n      <td>...</td>\n      <td>...</td>\n      <td>...</td>\n      <td>...</td>\n      <td>...</td>\n      <td>...</td>\n      <td>...</td>\n      <td>...</td>\n    </tr>\n    <tr>\n      <th>99995</th>\n      <td>0.0</td>\n      <td>0.0</td>\n      <td>0.0</td>\n      <td>0.0</td>\n      <td>0.0</td>\n      <td>0.0</td>\n      <td>0.0</td>\n      <td>0.0</td>\n      <td>0.0</td>\n      <td>0.0</td>\n      <td>...</td>\n      <td>0.0</td>\n      <td>0.0</td>\n      <td>0.0</td>\n      <td>0.0</td>\n      <td>0.0</td>\n      <td>0.0</td>\n      <td>0.0</td>\n      <td>1.0</td>\n      <td>0.0</td>\n      <td>0.0</td>\n    </tr>\n    <tr>\n      <th>99996</th>\n      <td>0.0</td>\n      <td>0.0</td>\n      <td>0.0</td>\n      <td>0.0</td>\n      <td>0.0</td>\n      <td>0.0</td>\n      <td>0.0</td>\n      <td>0.0</td>\n      <td>0.0</td>\n      <td>0.0</td>\n      <td>...</td>\n      <td>0.0</td>\n      <td>0.0</td>\n      <td>0.0</td>\n      <td>0.0</td>\n      <td>0.0</td>\n      <td>0.0</td>\n      <td>0.0</td>\n      <td>1.0</td>\n      <td>0.0</td>\n      <td>0.0</td>\n    </tr>\n    <tr>\n      <th>99997</th>\n      <td>0.0</td>\n      <td>0.0</td>\n      <td>0.0</td>\n      <td>0.0</td>\n      <td>0.0</td>\n      <td>0.0</td>\n      <td>0.0</td>\n      <td>0.0</td>\n      <td>0.0</td>\n      <td>0.0</td>\n      <td>...</td>\n      <td>0.0</td>\n      <td>0.0</td>\n      <td>0.0</td>\n      <td>0.0</td>\n      <td>0.0</td>\n      <td>0.0</td>\n      <td>0.0</td>\n      <td>1.0</td>\n      <td>0.0</td>\n      <td>0.0</td>\n    </tr>\n    <tr>\n      <th>99998</th>\n      <td>0.0</td>\n      <td>0.0</td>\n      <td>0.0</td>\n      <td>0.0</td>\n      <td>0.0</td>\n      <td>0.0</td>\n      <td>0.0</td>\n      <td>0.0</td>\n      <td>0.0</td>\n      <td>0.0</td>\n      <td>...</td>\n      <td>0.0</td>\n      <td>0.0</td>\n      <td>0.0</td>\n      <td>0.0</td>\n      <td>0.0</td>\n      <td>0.0</td>\n      <td>0.0</td>\n      <td>1.0</td>\n      <td>0.0</td>\n      <td>0.0</td>\n    </tr>\n    <tr>\n      <th>99999</th>\n      <td>0.0</td>\n      <td>0.0</td>\n      <td>0.0</td>\n      <td>0.0</td>\n      <td>0.0</td>\n      <td>0.0</td>\n      <td>0.0</td>\n      <td>0.0</td>\n      <td>0.0</td>\n      <td>0.0</td>\n      <td>...</td>\n      <td>0.0</td>\n      <td>0.0</td>\n      <td>0.0</td>\n      <td>0.0</td>\n      <td>0.0</td>\n      <td>0.0</td>\n      <td>0.0</td>\n      <td>1.0</td>\n      <td>0.0</td>\n      <td>0.0</td>\n    </tr>\n  </tbody>\n</table>\n<p>100000 rows × 41 columns</p>\n</div>"
     },
     "execution_count": 12,
     "metadata": {},
     "output_type": "execute_result"
    }
   ],
   "source": [
    "df_wide"
   ],
   "metadata": {
    "collapsed": false,
    "ExecuteTime": {
     "end_time": "2023-12-03T17:41:04.001735500Z",
     "start_time": "2023-12-03T17:41:03.946735500Z"
    }
   },
   "id": "2ea1e1effa68f9b1"
  },
  {
   "cell_type": "code",
   "execution_count": 13,
   "outputs": [
    {
     "data": {
      "text/plain": "            age  gender  occupation  genre\n0      0.803030       1          15      2\n1      0.803030       1          15      0\n2      0.803030       1          15      5\n3      0.803030       1          15      7\n4      0.803030       1          15      3\n...         ...     ...         ...    ...\n99995  0.181818       1          18      0\n99996  0.181818       1          18      0\n99997  0.181818       1          18      0\n99998  0.181818       1          18      3\n99999  0.181818       1          18      4\n\n[100000 rows x 4 columns]",
      "text/html": "<div>\n<style scoped>\n    .dataframe tbody tr th:only-of-type {\n        vertical-align: middle;\n    }\n\n    .dataframe tbody tr th {\n        vertical-align: top;\n    }\n\n    .dataframe thead th {\n        text-align: right;\n    }\n</style>\n<table border=\"1\" class=\"dataframe\">\n  <thead>\n    <tr style=\"text-align: right;\">\n      <th></th>\n      <th>age</th>\n      <th>gender</th>\n      <th>occupation</th>\n      <th>genre</th>\n    </tr>\n  </thead>\n  <tbody>\n    <tr>\n      <th>0</th>\n      <td>0.803030</td>\n      <td>1</td>\n      <td>15</td>\n      <td>2</td>\n    </tr>\n    <tr>\n      <th>1</th>\n      <td>0.803030</td>\n      <td>1</td>\n      <td>15</td>\n      <td>0</td>\n    </tr>\n    <tr>\n      <th>2</th>\n      <td>0.803030</td>\n      <td>1</td>\n      <td>15</td>\n      <td>5</td>\n    </tr>\n    <tr>\n      <th>3</th>\n      <td>0.803030</td>\n      <td>1</td>\n      <td>15</td>\n      <td>7</td>\n    </tr>\n    <tr>\n      <th>4</th>\n      <td>0.803030</td>\n      <td>1</td>\n      <td>15</td>\n      <td>3</td>\n    </tr>\n    <tr>\n      <th>...</th>\n      <td>...</td>\n      <td>...</td>\n      <td>...</td>\n      <td>...</td>\n    </tr>\n    <tr>\n      <th>99995</th>\n      <td>0.181818</td>\n      <td>1</td>\n      <td>18</td>\n      <td>0</td>\n    </tr>\n    <tr>\n      <th>99996</th>\n      <td>0.181818</td>\n      <td>1</td>\n      <td>18</td>\n      <td>0</td>\n    </tr>\n    <tr>\n      <th>99997</th>\n      <td>0.181818</td>\n      <td>1</td>\n      <td>18</td>\n      <td>0</td>\n    </tr>\n    <tr>\n      <th>99998</th>\n      <td>0.181818</td>\n      <td>1</td>\n      <td>18</td>\n      <td>3</td>\n    </tr>\n    <tr>\n      <th>99999</th>\n      <td>0.181818</td>\n      <td>1</td>\n      <td>18</td>\n      <td>4</td>\n    </tr>\n  </tbody>\n</table>\n<p>100000 rows × 4 columns</p>\n</div>"
     },
     "execution_count": 13,
     "metadata": {},
     "output_type": "execute_result"
    }
   ],
   "source": [
    "df_deep"
   ],
   "metadata": {
    "collapsed": false,
    "ExecuteTime": {
     "end_time": "2023-12-03T17:41:56.736016100Z",
     "start_time": "2023-12-03T17:41:56.703018400Z"
    }
   },
   "id": "2cbd5c0dc59b2d0d"
  },
  {
   "cell_type": "markdown",
   "source": [
    "# Deep learning model architecture"
   ],
   "metadata": {
    "collapsed": false
   },
   "id": "e89fd26b22373977"
  },
  {
   "cell_type": "code",
   "execution_count": 7,
   "outputs": [
    {
     "name": "stdout",
     "output_type": "stream",
     "text": [
      "WideAndDeepModel(\n",
      "  (emb_1): Embedding(50, 64)\n",
      "  (emb_2): Embedding(50, 64)\n",
      "  (emb_3): Embedding(50, 64)\n",
      "  (flatten): Flatten(start_dim=1, end_dim=-1)\n",
      "  (dropout): Dropout(p=0.2, inplace=False)\n",
      "  (deep_layers): Sequential(\n",
      "    (0): Linear(in_features=193, out_features=256, bias=True)\n",
      "    (1): ReLU()\n",
      "    (2): Dropout(p=0.2, inplace=False)\n",
      "    (3): Linear(in_features=256, out_features=128, bias=True)\n",
      "    (4): ReLU()\n",
      "    (5): Dropout(p=0.2, inplace=False)\n",
      "    (6): Linear(in_features=128, out_features=64, bias=True)\n",
      "    (7): ReLU()\n",
      "    (8): Dropout(p=0.2, inplace=False)\n",
      "    (9): Linear(in_features=64, out_features=64, bias=True)\n",
      "    (10): ReLU()\n",
      "  )\n",
      "  (wide_inputs): Linear(in_features=41, out_features=41, bias=True)\n",
      "  (output): Sequential(\n",
      "    (0): Linear(in_features=105, out_features=1, bias=True)\n",
      "    (1): ReLU()\n",
      "  )\n",
      ")\n"
     ]
    }
   ],
   "source": [
    "max_num_categorical_values = 50\n",
    "emb_dimension = 64\n",
    "max_sequence_length = 1\n",
    "\n",
    "class WideAndDeepModel(nn.Module):\n",
    "    def __init__(self, num_features):\n",
    "        \"\"\"Initialize model\"\"\"\n",
    "        \n",
    "        super(WideAndDeepModel, self).__init__()\n",
    "        \n",
    "        self.emb_1 = nn.Embedding(max_num_categorical_values, emb_dimension)\n",
    "        self.emb_2 = nn.Embedding(max_num_categorical_values, emb_dimension)\n",
    "        self.emb_3 = nn.Embedding(max_num_categorical_values, emb_dimension)\n",
    "        \n",
    "        self.flatten = nn.Flatten()\n",
    "        self.dropout = nn.Dropout(p=0.2)\n",
    "        \n",
    "        self.deep_layers = nn.Sequential(\n",
    "            nn.Linear(3 * emb_dimension + 1, 256),\n",
    "            nn.ReLU(),\n",
    "            nn.Dropout(p=0.2),\n",
    "            nn.Linear(256, 128),\n",
    "            nn.ReLU(),\n",
    "            nn.Dropout(p=0.2),\n",
    "            nn.Linear(128, 64),\n",
    "            nn.ReLU(),\n",
    "            nn.Dropout(p=0.2),\n",
    "            nn.Linear(64, 64),\n",
    "            nn.ReLU(),\n",
    "        )\n",
    "        \n",
    "        self.wide_inputs = nn.Linear(num_features, num_features)\n",
    "        \n",
    "        self.output = nn.Sequential(\n",
    "                                    nn.Linear(105, 1), \n",
    "                                    nn.ReLU()\n",
    "        )\n",
    "        \n",
    "    def forward(self, wide_inputs, categorical_input_1, categorical_input_2, categorical_input_3, numerical_input):\n",
    "        \"\"\"Forward function\"\"\"\n",
    "        \n",
    "        emb_1 = self.flatten(self.emb_1(categorical_input_1))\n",
    "        emb_2 = self.flatten(self.emb_2(categorical_input_2))\n",
    "        emb_3 = self.flatten(self.emb_3(categorical_input_3))\n",
    "        \n",
    "        concatenated_embeddings = torch.cat((emb_1, emb_2, emb_3, numerical_input), dim=1)\n",
    "        concatenated_embeddings = self.dropout(concatenated_embeddings)\n",
    "        \n",
    "        deep_output = self.deep_layers(concatenated_embeddings)\n",
    "        \n",
    "        wide_input = self.wide_inputs(wide_inputs)\n",
    "        combined = torch.cat((wide_input, deep_output), dim=1)\n",
    "        combined = self.dropout(combined)\n",
    "        \n",
    "        wide_and_deep_output = self.output(combined)\n",
    "        \n",
    "        return wide_and_deep_output\n",
    "\n",
    "\n",
    "num_features = len(df_wide.columns)\n",
    "wide_and_deep_model = WideAndDeepModel(num_features)\n",
    "print(wide_and_deep_model)"
   ],
   "metadata": {
    "collapsed": false,
    "ExecuteTime": {
     "end_time": "2023-12-03T05:40:36.663531Z",
     "start_time": "2023-12-03T05:40:36.642533600Z"
    }
   },
   "id": "350d1f833ca8446c"
  },
  {
   "cell_type": "markdown",
   "source": [
    "# Training process"
   ],
   "metadata": {
    "collapsed": false
   },
   "id": "a3af86ed29137d0b"
  },
  {
   "cell_type": "code",
   "execution_count": 8,
   "outputs": [
    {
     "name": "stdout",
     "output_type": "stream",
     "text": [
      "Epoch - 1, loss = 1.4254490484952926, rmse = 1.193921709533457\n",
      "Epoch - 2, loss = 1.2767514662981034, rmse = 1.1299342752116617\n",
      "Epoch - 3, loss = 1.2632473044276238, rmse = 1.123942749621894\n",
      "Epoch - 4, loss = 1.257342862200737, rmse = 1.1213130081296376\n",
      "Epoch - 5, loss = 1.2527355213165283, rmse = 1.1192566824980446\n",
      "Epoch - 6, loss = 1.2461453395843505, rmse = 1.1163088011766056\n",
      "Epoch - 7, loss = 1.2479559756994247, rmse = 1.1171194992924547\n",
      "Epoch - 8, loss = 1.2432968809008598, rmse = 1.1150322331219218\n",
      "Epoch - 9, loss = 1.2418999582648278, rmse = 1.1144056524734733\n",
      "Epoch - 10, loss = 1.239729526400566, rmse = 1.1134314197114101\n",
      "Epoch - 11, loss = 1.2404740032911301, rmse = 1.1137656859910572\n",
      "Epoch - 12, loss = 1.2368287499785424, rmse = 1.1121280276921999\n",
      "Epoch - 13, loss = 1.235861572599411, rmse = 1.1116931107996537\n",
      "Epoch - 14, loss = 1.2341927841901779, rmse = 1.1109422956167336\n",
      "Epoch - 15, loss = 1.2336290060043336, rmse = 1.1106885278980483\n",
      "Epoch - 16, loss = 1.232300968360901, rmse = 1.1100905225975497\n",
      "Epoch - 17, loss = 1.231532228732109, rmse = 1.1097442177060934\n",
      "Epoch - 18, loss = 1.2283276587724685, rmse = 1.1082994445421637\n",
      "Epoch - 19, loss = 1.2281808401346206, rmse = 1.108233206565577\n",
      "Epoch - 20, loss = 1.2268773640036583, rmse = 1.107644962974896\n",
      "Epoch - 21, loss = 1.2257355504631997, rmse = 1.1071294190216425\n",
      "Epoch - 22, loss = 1.2259037131547927, rmse = 1.107205361780186\n",
      "Epoch - 23, loss = 1.2250076493024826, rmse = 1.1068006366561607\n",
      "Epoch - 24, loss = 1.2257629860043526, rmse = 1.107141809347092\n",
      "Epoch - 25, loss = 1.2254662843465804, rmse = 1.107007806813746\n",
      "Epoch - 26, loss = 1.2229458732485772, rmse = 1.1058688318460634\n",
      "Epoch - 27, loss = 1.2239310844898224, rmse = 1.1063141888676211\n",
      "Epoch - 28, loss = 1.223043441617489, rmse = 1.1059129448638754\n",
      "Epoch - 29, loss = 1.2219061643600464, rmse = 1.1053986449964766\n",
      "Epoch - 30, loss = 1.2211824263095856, rmse = 1.1050712313283635\n",
      "Epoch - 31, loss = 1.2215934844613074, rmse = 1.1052572028542982\n",
      "Epoch - 32, loss = 1.219684469127655, rmse = 1.1043932583675322\n",
      "Epoch - 33, loss = 1.2210456184625627, rmse = 1.105009329581684\n",
      "Epoch - 34, loss = 1.2210432582616806, rmse = 1.1050082616259846\n",
      "Epoch - 35, loss = 1.2199908541202544, rmse = 1.104531961565737\n",
      "Epoch - 36, loss = 1.2204853548765182, rmse = 1.1047557897003837\n",
      "Epoch - 37, loss = 1.2191505198955537, rmse = 1.1041514931817797\n",
      "Epoch - 38, loss = 1.219414110660553, rmse = 1.1042708502267697\n",
      "Epoch - 39, loss = 1.2186847755908965, rmse = 1.1039405670555351\n",
      "Epoch - 40, loss = 1.2172827333927154, rmse = 1.1033053672454944\n",
      "Epoch - 41, loss = 1.2176979759931563, rmse = 1.1034935323748647\n",
      "Epoch - 42, loss = 1.217910222697258, rmse = 1.1035896985280618\n",
      "Epoch - 43, loss = 1.218111836218834, rmse = 1.1036810391679446\n",
      "Epoch - 44, loss = 1.2174076570391654, rmse = 1.1033619791524292\n",
      "Epoch - 45, loss = 1.2167563285470009, rmse = 1.1030667833576537\n",
      "Epoch - 46, loss = 1.2165465842843055, rmse = 1.1029717060216484\n",
      "Epoch - 47, loss = 1.216808892405033, rmse = 1.1030906093358936\n",
      "Epoch - 48, loss = 1.2166360463619232, rmse = 1.10301226029538\n",
      "Epoch - 49, loss = 1.2166546689510345, rmse = 1.1030207019594123\n",
      "Epoch - 50, loss = 1.2152035117030144, rmse = 1.1023626951702485\n",
      "Epoch - 51, loss = 1.2142629019975661, rmse = 1.1019359790829801\n",
      "Epoch - 52, loss = 1.215576138806343, rmse = 1.1025316951481907\n",
      "Epoch - 53, loss = 1.2160146001577377, rmse = 1.1027305201896507\n",
      "Epoch - 54, loss = 1.2154588767290115, rmse = 1.1024785153140226\n",
      "Epoch - 55, loss = 1.2157352546095848, rmse = 1.1026038520745267\n",
      "Epoch - 56, loss = 1.2164698458433152, rmse = 1.1029369183427107\n",
      "Epoch - 57, loss = 1.2150821631431579, rmse = 1.1023076535809582\n",
      "Epoch - 58, loss = 1.2161592855453491, rmse = 1.102796121477288\n",
      "Epoch - 59, loss = 1.2166007498145104, rmse = 1.1029962601090315\n",
      "Epoch - 60, loss = 1.2159061138629914, rmse = 1.1026813292438533\n",
      "Epoch - 61, loss = 1.2156361824035644, rmse = 1.102558924685463\n",
      "Epoch - 62, loss = 1.2152742592573167, rmse = 1.1023947837582129\n",
      "Epoch - 63, loss = 1.21409897813797, rmse = 1.1018615966345184\n",
      "Epoch - 64, loss = 1.2151356261730195, rmse = 1.1023319038170942\n",
      "Epoch - 65, loss = 1.213692762875557, rmse = 1.1016772498674723\n",
      "Epoch - 66, loss = 1.2150448858022689, rmse = 1.1022907446777683\n",
      "Epoch - 67, loss = 1.214583928346634, rmse = 1.1020816341572135\n",
      "Epoch - 68, loss = 1.214487371826172, rmse = 1.102037826858122\n",
      "Epoch - 69, loss = 1.2147503664016723, rmse = 1.1021571423357344\n",
      "Epoch - 70, loss = 1.2145143542170524, rmse = 1.102050068834013\n",
      "Epoch - 71, loss = 1.215354494059086, rmse = 1.1024311742957407\n",
      "Epoch - 72, loss = 1.2144113190174102, rmse = 1.102003320783295\n",
      "Epoch - 73, loss = 1.2146437278032303, rmse = 1.1021087640533624\n",
      "Epoch - 74, loss = 1.2143056794404983, rmse = 1.1019553890428133\n",
      "Epoch - 75, loss = 1.2137467090845109, rmse = 1.1017017332674532\n",
      "Epoch - 76, loss = 1.2152369779229164, rmse = 1.1023778743801584\n",
      "Epoch - 77, loss = 1.2146526515960694, rmse = 1.1021128125541728\n",
      "Epoch - 78, loss = 1.2141047085046768, rmse = 1.1018641969429248\n",
      "Epoch - 79, loss = 1.2138206542491914, rmse = 1.101735292277229\n",
      "Epoch - 80, loss = 1.213718086707592, rmse = 1.1016887431155826\n",
      "Epoch - 81, loss = 1.2146300719976426, rmse = 1.102102568728357\n",
      "Epoch - 82, loss = 1.2129411487340926, rmse = 1.1013360743815181\n",
      "Epoch - 83, loss = 1.213695105457306, rmse = 1.1016783130557242\n",
      "Epoch - 84, loss = 1.2134631422638893, rmse = 1.1015730308354001\n",
      "Epoch - 85, loss = 1.2136407643556595, rmse = 1.1016536499080187\n",
      "Epoch - 86, loss = 1.2145297264933586, rmse = 1.1020570432120829\n",
      "Epoch - 87, loss = 1.2135539262771606, rmse = 1.1016142365988018\n",
      "Epoch - 88, loss = 1.2127483280539513, rmse = 1.10124853146506\n",
      "Epoch - 89, loss = 1.2129387392044066, rmse = 1.1013349804688883\n",
      "Epoch - 90, loss = 1.2143472394824029, rmse = 1.1019742462881803\n",
      "Epoch - 91, loss = 1.2132105517864227, rmse = 1.101458374967671\n",
      "Epoch - 92, loss = 1.213509408724308, rmse = 1.1015940308136696\n",
      "Epoch - 93, loss = 1.2135455196738243, rmse = 1.101610421008182\n",
      "Epoch - 94, loss = 1.2141177262067795, rmse = 1.1018701040534584\n",
      "Epoch - 95, loss = 1.2135678084969521, rmse = 1.101620537434262\n",
      "Epoch - 96, loss = 1.213730591571331, rmse = 1.1016944184170723\n",
      "Epoch - 97, loss = 1.2132815991282464, rmse = 1.1014906259829207\n",
      "Epoch - 98, loss = 1.212300255060196, rmse = 1.10104507403657\n",
      "Epoch - 99, loss = 1.2137767387151719, rmse = 1.1017153619311895\n",
      "Epoch - 100, loss = 1.2135774682760239, rmse = 1.101624921775113\n"
     ]
    }
   ],
   "source": [
    "from torch.utils.data import DataLoader, TensorDataset\n",
    "import torch\n",
    "import torch.optim as optim\n",
    "\n",
    "batch_size = 32\n",
    "device = torch.device(\"cuda:0\" if torch.cuda.is_available() else \"cpu\")\n",
    "\n",
    "# Define optimizer and loss function\n",
    "wide_and_deep_model = wide_and_deep_model.to(device)\n",
    "optimizer = optim.Adam(wide_and_deep_model.parameters())\n",
    "criterion = nn.MSELoss()\n",
    "\n",
    "# Prepare your data in PyTorch DataLoader\n",
    "train_dataset = TensorDataset(wide_inputs_train, categorical_input_1_train,\n",
    "                              categorical_input_2_train, categorical_input_3_train,\n",
    "                              numerical_input_train, y_train)\n",
    "train_loader = DataLoader(train_dataset, batch_size=batch_size, shuffle=True)\n",
    "\n",
    "\n",
    "# Training loop\n",
    "num_epochs = 100\n",
    "losses = []\n",
    "for epoch in range(num_epochs):\n",
    "    running_loss = 0.0\n",
    "    wide_and_deep_model.train()  # Set model to training mode\n",
    "    \n",
    "    for i, data in enumerate(train_loader, 0):\n",
    "        wide_inputs, cat_input_1, cat_input_2, cat_input_3, num_input, labels = data\n",
    "        wide_inputs, cat_input_1, cat_input_2, cat_input_3, num_input, labels = wide_inputs.to(device), cat_input_1.to(device), cat_input_2.to(device), cat_input_3.to(device), num_input.to(device), labels.to(device)\n",
    "    \n",
    "        optimizer.zero_grad()\n",
    "        \n",
    "        outputs = wide_and_deep_model(wide_inputs, cat_input_1, cat_input_2, cat_input_3, num_input)\n",
    "        loss = criterion(outputs, labels)\n",
    "        loss.backward()\n",
    "        optimizer.step()\n",
    "\n",
    "        running_loss += loss.item()\n",
    "        \n",
    "    print(f\"Epoch - {epoch + 1}, loss = {running_loss / len(train_loader)}, rmse = {np.sqrt(running_loss / len(train_loader))}\")\n",
    "    losses.append(running_loss / len(train_loader))"
   ],
   "metadata": {
    "collapsed": false,
    "ExecuteTime": {
     "end_time": "2023-12-03T05:52:12.130689300Z",
     "start_time": "2023-12-03T05:40:36.667531400Z"
    }
   },
   "id": "e7e711d07db6e872"
  },
  {
   "cell_type": "code",
   "execution_count": 9,
   "outputs": [
    {
     "data": {
      "text/plain": "<Figure size 640x480 with 1 Axes>",
      "image/png": "[encoded data removed]"
     },
     "metadata": {},
     "output_type": "display_data"
    }
   ],
   "source": [
    "epoch_list = [(i+1) for i in range(num_epochs)]\n",
    "plt.plot(epoch_list, losses)\n",
    "plt.title('Training Loss (MSE) Wide and Deep Neural Network')\n",
    "plt.savefig(os.path.join(PATH_SAVE_FIGURES, \"wide_and_deep_loss.png\"), bbox_inches = 'tight')\n",
    "plt.show()"
   ],
   "metadata": {
    "collapsed": false,
    "ExecuteTime": {
     "end_time": "2023-12-03T05:52:12.333689400Z",
     "start_time": "2023-12-03T05:52:12.134689700Z"
    }
   },
   "id": "6906aed67cd8ea85"
  },
  {
   "cell_type": "markdown",
   "source": [
    "# Evaluation"
   ],
   "metadata": {
    "collapsed": false
   },
   "id": "dce97e20e2121332"
  },
  {
   "cell_type": "code",
   "execution_count": 10,
   "outputs": [
    {
     "name": "stdout",
     "output_type": "stream",
     "text": [
      "MSE = 1.2150581442832946, RMSE = 1.1022967587193997\n"
     ]
    }
   ],
   "source": [
    "# Prepare data in PyTorch DataLoader\n",
    "test_dataset = TensorDataset(wide_inputs_test, categorical_input_1_test,\n",
    "                              categorical_input_2_test, categorical_input_3_test,\n",
    "                              numerical_input_test, y_test)\n",
    "test_loader = DataLoader(test_dataset, batch_size=batch_size, shuffle=True)\n",
    "\n",
    "mse = 0\n",
    "with torch.no_grad():\n",
    "    wide_and_deep_model.eval()\n",
    "    for i, data in enumerate(test_loader, 0):\n",
    "        wide_inputs, cat_input_1, cat_input_2, cat_input_3, num_input, labels = data\n",
    "        wide_inputs, cat_input_1, cat_input_2, cat_input_3, num_input, labels = wide_inputs.to(device), cat_input_1.to(device), cat_input_2.to(device), cat_input_3.to(device), num_input.to(device), labels.to(device)\n",
    "        outputs = wide_and_deep_model(wide_inputs, cat_input_1, cat_input_2, cat_input_3, num_input)\n",
    "\n",
    "        loss = criterion(outputs, labels)\n",
    "        mse += loss.item()\n",
    "\n",
    "print(f'MSE = {mse / len(test_loader)}, RMSE = {np.sqrt(mse / len(test_loader))}')"
   ],
   "metadata": {
    "collapsed": false,
    "ExecuteTime": {
     "end_time": "2023-12-03T05:52:13.175692700Z",
     "start_time": "2023-12-03T05:52:12.332694200Z"
    }
   },
   "id": "cf7f70c6c3032345"
  },
  {
   "cell_type": "markdown",
   "source": [
    "# Save model"
   ],
   "metadata": {
    "collapsed": false
   },
   "id": "752f3125ce2afaf0"
  },
  {
   "cell_type": "code",
   "execution_count": 11,
   "outputs": [],
   "source": [
    "torch.save(wide_and_deep_model.state_dict(), os.path.join(MODELS_PATH, \"wide_and_deep_model.pt\"))"
   ],
   "metadata": {
    "collapsed": false,
    "ExecuteTime": {
     "end_time": "2023-12-03T05:52:13.184690500Z",
     "start_time": "2023-12-03T05:52:13.169691600Z"
    }
   },
   "id": "5e46fe9512e9ecac"
  }
 ],
 "metadata": {
  "kernelspec": {
   "display_name": "Python 3",
   "language": "python",
   "name": "python3"
  },
  "language_info": {
   "codemirror_mode": {
    "name": "ipython",
    "version": 2
   },
   "file_extension": ".py",
   "mimetype": "text/x-python",
   "name": "python",
   "nbconvert_exporter": "python",
   "pygments_lexer": "ipython2",
   "version": "2.7.6"
  }
 },
 "nbformat": 4,
 "nbformat_minor": 5
}
