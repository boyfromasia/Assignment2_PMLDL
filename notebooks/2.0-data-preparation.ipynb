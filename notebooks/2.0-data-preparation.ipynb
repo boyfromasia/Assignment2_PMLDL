{
 "cells": [
  {
   "cell_type": "code",
   "execution_count": 49,
   "id": "initial_id",
   "metadata": {
    "collapsed": true,
    "ExecuteTime": {
     "end_time": "2023-12-03T05:48:07.832451800Z",
     "start_time": "2023-12-03T05:48:07.818452400Z"
    }
   },
   "outputs": [],
   "source": [
    "import os\n",
    "import pandas as pd\n",
    "import numpy as np\n",
    "from time import time\n",
    "from datetime import datetime, timedelta\n",
    "from sklearn.preprocessing import OneHotEncoder, LabelEncoder, MinMaxScaler\n",
    "from sklearn.model_selection import train_test_split\n",
    "import pickle\n",
    "\n",
    "sets = [\"u1\", \"u2\", \"u3\", \"u4\", \"u5\", \"ua\", \"ub\"]\n",
    "RAW_PATH = \"../data/raw/\"\n",
    "INTERIM_PATH = \"../data/interim/\"\n",
    "SEED = 42\n",
    "\n",
    "import warnings\n",
    "warnings.filterwarnings(\"ignore\")"
   ]
  },
  {
   "cell_type": "markdown",
   "source": [
    "# Read Data"
   ],
   "metadata": {
    "collapsed": false
   },
   "id": "ca462a10800018d8"
  },
  {
   "cell_type": "code",
   "execution_count": 50,
   "outputs": [],
   "source": [
    "data_cols = ['user_id', 'movie_id', 'rating', 'timestamp']\n",
    "data = pd.read_csv(os.path.join(RAW_PATH, \"u.data\"), sep=\"\\t\", names=data_cols, encoding='latin-1')\n",
    "\n",
    "item_cols = ['movie_id', 'movie_title', 'release_date', 'video_release_date', 'imdb_url', 'unknown', 'action', 'adventure', 'animation', 'childrens', 'comedy', 'crime', 'documentary', 'drama', 'fantasy', 'film-noir', 'horror', 'musical', 'mystery', 'romance', 'sci-fi', 'thriller', 'war', 'western']\n",
    "items = pd.read_csv(os.path.join(RAW_PATH, \"u.item\"), sep=\"|\", names=item_cols, encoding='latin-1')\n",
    "\n",
    "user_cols = ['user_id', 'age', 'gender', 'occupation', 'zip_code']\n",
    "users = pd.read_csv(os.path.join(RAW_PATH, \"u.user\"), sep=\"|\", names=user_cols, encoding='latin-1')"
   ],
   "metadata": {
    "collapsed": false,
    "ExecuteTime": {
     "end_time": "2023-12-03T05:48:07.922452300Z",
     "start_time": "2023-12-03T05:48:07.836453500Z"
    }
   },
   "id": "b4df5c6dce115f64"
  },
  {
   "cell_type": "code",
   "execution_count": 51,
   "outputs": [],
   "source": [
    "# Create a merged dataframe\n",
    "df = pd.merge(pd.merge(items, data), users)"
   ],
   "metadata": {
    "collapsed": false,
    "ExecuteTime": {
     "end_time": "2023-12-03T05:48:08.012453500Z",
     "start_time": "2023-12-03T05:48:07.927452100Z"
    }
   },
   "id": "75d154b025d4782e"
  },
  {
   "cell_type": "markdown",
   "source": [
    "# Create Wide DataFrame"
   ],
   "metadata": {
    "collapsed": false
   },
   "id": "d7e766c2ed78d945"
  },
  {
   "cell_type": "code",
   "execution_count": 52,
   "outputs": [],
   "source": [
    "# cross-product feature transformation by combining gender and occupation\n",
    "df_wide = df[['gender', 'occupation']]\n",
    "df_wide['gender_occupation'] = df_wide['gender'] + \"_\" + df_wide['occupation']\n",
    "encoder = OneHotEncoder(handle_unknown='ignore')\n",
    "encoder.fit(df_wide[['gender_occupation']])\n",
    "one_hot_encoded_df = pd.DataFrame(encoder.transform(df_wide[['gender_occupation']]).toarray(),\n",
    "                                  columns=encoder.get_feature_names_out())\n",
    "df_wide = df_wide.join(one_hot_encoded_df)\n",
    "df_wide.drop(['gender', 'occupation', 'gender_occupation'], axis=1, inplace=True)"
   ],
   "metadata": {
    "collapsed": false,
    "ExecuteTime": {
     "end_time": "2023-12-03T05:48:08.104455400Z",
     "start_time": "2023-12-03T05:48:08.013454700Z"
    }
   },
   "id": "957efdadee9743e7"
  },
  {
   "cell_type": "code",
   "execution_count": 53,
   "outputs": [
    {
     "data": {
      "text/plain": "   gender_occupation_F_administrator  gender_occupation_F_artist  \\\n0                                0.0                         0.0   \n1                                0.0                         0.0   \n2                                0.0                         0.0   \n3                                0.0                         0.0   \n4                                0.0                         0.0   \n\n   gender_occupation_F_educator  gender_occupation_F_engineer  \\\n0                           0.0                           0.0   \n1                           0.0                           0.0   \n2                           0.0                           0.0   \n3                           0.0                           0.0   \n4                           0.0                           0.0   \n\n   gender_occupation_F_entertainment  gender_occupation_F_executive  \\\n0                                0.0                            0.0   \n1                                0.0                            0.0   \n2                                0.0                            0.0   \n3                                0.0                            0.0   \n4                                0.0                            0.0   \n\n   gender_occupation_F_healthcare  gender_occupation_F_homemaker  \\\n0                             0.0                            0.0   \n1                             0.0                            0.0   \n2                             0.0                            0.0   \n3                             0.0                            0.0   \n4                             0.0                            0.0   \n\n   gender_occupation_F_lawyer  gender_occupation_F_librarian  ...  \\\n0                         0.0                            0.0  ...   \n1                         0.0                            0.0  ...   \n2                         0.0                            0.0  ...   \n3                         0.0                            0.0  ...   \n4                         0.0                            0.0  ...   \n\n   gender_occupation_M_marketing  gender_occupation_M_none  \\\n0                            0.0                       0.0   \n1                            0.0                       0.0   \n2                            0.0                       0.0   \n3                            0.0                       0.0   \n4                            0.0                       0.0   \n\n   gender_occupation_M_other  gender_occupation_M_programmer  \\\n0                        0.0                             0.0   \n1                        0.0                             0.0   \n2                        0.0                             0.0   \n3                        0.0                             0.0   \n4                        0.0                             0.0   \n\n   gender_occupation_M_retired  gender_occupation_M_salesman  \\\n0                          1.0                           0.0   \n1                          1.0                           0.0   \n2                          1.0                           0.0   \n3                          1.0                           0.0   \n4                          1.0                           0.0   \n\n   gender_occupation_M_scientist  gender_occupation_M_student  \\\n0                            0.0                          0.0   \n1                            0.0                          0.0   \n2                            0.0                          0.0   \n3                            0.0                          0.0   \n4                            0.0                          0.0   \n\n   gender_occupation_M_technician  gender_occupation_M_writer  \n0                             0.0                         0.0  \n1                             0.0                         0.0  \n2                             0.0                         0.0  \n3                             0.0                         0.0  \n4                             0.0                         0.0  \n\n[5 rows x 41 columns]",
      "text/html": "<div>\n<style scoped>\n    .dataframe tbody tr th:only-of-type {\n        vertical-align: middle;\n    }\n\n    .dataframe tbody tr th {\n        vertical-align: top;\n    }\n\n    .dataframe thead th {\n        text-align: right;\n    }\n</style>\n<table border=\"1\" class=\"dataframe\">\n  <thead>\n    <tr style=\"text-align: right;\">\n      <th></th>\n      <th>gender_occupation_F_administrator</th>\n      <th>gender_occupation_F_artist</th>\n      <th>gender_occupation_F_educator</th>\n      <th>gender_occupation_F_engineer</th>\n      <th>gender_occupation_F_entertainment</th>\n      <th>gender_occupation_F_executive</th>\n      <th>gender_occupation_F_healthcare</th>\n      <th>gender_occupation_F_homemaker</th>\n      <th>gender_occupation_F_lawyer</th>\n      <th>gender_occupation_F_librarian</th>\n      <th>...</th>\n      <th>gender_occupation_M_marketing</th>\n      <th>gender_occupation_M_none</th>\n      <th>gender_occupation_M_other</th>\n      <th>gender_occupation_M_programmer</th>\n      <th>gender_occupation_M_retired</th>\n      <th>gender_occupation_M_salesman</th>\n      <th>gender_occupation_M_scientist</th>\n      <th>gender_occupation_M_student</th>\n      <th>gender_occupation_M_technician</th>\n      <th>gender_occupation_M_writer</th>\n    </tr>\n  </thead>\n  <tbody>\n    <tr>\n      <th>0</th>\n      <td>0.0</td>\n      <td>0.0</td>\n      <td>0.0</td>\n      <td>0.0</td>\n      <td>0.0</td>\n      <td>0.0</td>\n      <td>0.0</td>\n      <td>0.0</td>\n      <td>0.0</td>\n      <td>0.0</td>\n      <td>...</td>\n      <td>0.0</td>\n      <td>0.0</td>\n      <td>0.0</td>\n      <td>0.0</td>\n      <td>1.0</td>\n      <td>0.0</td>\n      <td>0.0</td>\n      <td>0.0</td>\n      <td>0.0</td>\n      <td>0.0</td>\n    </tr>\n    <tr>\n      <th>1</th>\n      <td>0.0</td>\n      <td>0.0</td>\n      <td>0.0</td>\n      <td>0.0</td>\n      <td>0.0</td>\n      <td>0.0</td>\n      <td>0.0</td>\n      <td>0.0</td>\n      <td>0.0</td>\n      <td>0.0</td>\n      <td>...</td>\n      <td>0.0</td>\n      <td>0.0</td>\n      <td>0.0</td>\n      <td>0.0</td>\n      <td>1.0</td>\n      <td>0.0</td>\n      <td>0.0</td>\n      <td>0.0</td>\n      <td>0.0</td>\n      <td>0.0</td>\n    </tr>\n    <tr>\n      <th>2</th>\n      <td>0.0</td>\n      <td>0.0</td>\n      <td>0.0</td>\n      <td>0.0</td>\n      <td>0.0</td>\n      <td>0.0</td>\n      <td>0.0</td>\n      <td>0.0</td>\n      <td>0.0</td>\n      <td>0.0</td>\n      <td>...</td>\n      <td>0.0</td>\n      <td>0.0</td>\n      <td>0.0</td>\n      <td>0.0</td>\n      <td>1.0</td>\n      <td>0.0</td>\n      <td>0.0</td>\n      <td>0.0</td>\n      <td>0.0</td>\n      <td>0.0</td>\n    </tr>\n    <tr>\n      <th>3</th>\n      <td>0.0</td>\n      <td>0.0</td>\n      <td>0.0</td>\n      <td>0.0</td>\n      <td>0.0</td>\n      <td>0.0</td>\n      <td>0.0</td>\n      <td>0.0</td>\n      <td>0.0</td>\n      <td>0.0</td>\n      <td>...</td>\n      <td>0.0</td>\n      <td>0.0</td>\n      <td>0.0</td>\n      <td>0.0</td>\n      <td>1.0</td>\n      <td>0.0</td>\n      <td>0.0</td>\n      <td>0.0</td>\n      <td>0.0</td>\n      <td>0.0</td>\n    </tr>\n    <tr>\n      <th>4</th>\n      <td>0.0</td>\n      <td>0.0</td>\n      <td>0.0</td>\n      <td>0.0</td>\n      <td>0.0</td>\n      <td>0.0</td>\n      <td>0.0</td>\n      <td>0.0</td>\n      <td>0.0</td>\n      <td>0.0</td>\n      <td>...</td>\n      <td>0.0</td>\n      <td>0.0</td>\n      <td>0.0</td>\n      <td>0.0</td>\n      <td>1.0</td>\n      <td>0.0</td>\n      <td>0.0</td>\n      <td>0.0</td>\n      <td>0.0</td>\n      <td>0.0</td>\n    </tr>\n  </tbody>\n</table>\n<p>5 rows × 41 columns</p>\n</div>"
     },
     "execution_count": 53,
     "metadata": {},
     "output_type": "execute_result"
    }
   ],
   "source": [
    "df_wide.head()"
   ],
   "metadata": {
    "collapsed": false,
    "ExecuteTime": {
     "end_time": "2023-12-03T05:48:08.137452100Z",
     "start_time": "2023-12-03T05:48:08.106454400Z"
    }
   },
   "id": "e98a52c84d654b66"
  },
  {
   "cell_type": "markdown",
   "source": [
    "# Create Deep DataFrame"
   ],
   "metadata": {
    "collapsed": false
   },
   "id": "188f9737c274ee08"
  },
  {
   "cell_type": "code",
   "execution_count": 54,
   "outputs": [],
   "source": [
    "df_deep = df[['age', 'unknown', 'action', 'adventure', 'animation', 'childrens', 'comedy', 'crime', 'documentary', 'drama', 'fantasy', 'film-noir', 'horror', 'musical', 'mystery', 'romance', 'sci-fi', 'thriller', 'war', 'western','gender', 'occupation']]\n",
    "\n",
    "# Combine sparse categorical features into one single genre feature\n",
    "df_deep['genre'] = df_deep[['unknown', 'action', 'adventure', 'animation', 'childrens', 'comedy', 'crime', 'documentary', 'drama', 'fantasy', 'film-noir', 'horror', 'musical', 'mystery', 'romance', 'sci-fi', 'thriller', 'war', 'western']].idxmax(1)\n",
    "df_deep.drop(columns=['unknown', 'action', 'adventure', 'animation', 'childrens', 'comedy', 'crime', 'documentary', 'drama', 'fantasy', 'film-noir', 'horror', 'musical', 'mystery', 'romance', 'sci-fi', 'thriller', 'war', 'western'], axis=1, inplace=True)\n",
    "\n",
    "# Encode categorical features\n",
    "for feature in ['gender', 'occupation', 'genre']:\n",
    "    encoder = LabelEncoder()\n",
    "    encoder.fit(df_deep[[feature]])\n",
    "    transformed_feature = encoder.transform(df_deep[[feature]])\n",
    "    df_deep[feature] = transformed_feature\n",
    "\n",
    "# Min-max scaling for numerical features\n",
    "for feature in ['age']:\n",
    "    scaler = MinMaxScaler()\n",
    "    scaler.fit(df_deep[[feature]])\n",
    "    transformed_feature = scaler.transform(df_deep[[feature]])\n",
    "    df_deep[feature] = transformed_feature"
   ],
   "metadata": {
    "collapsed": false,
    "ExecuteTime": {
     "end_time": "2023-12-03T05:48:08.229453400Z",
     "start_time": "2023-12-03T05:48:08.140454Z"
    }
   },
   "id": "2b540856bef77bf8"
  },
  {
   "cell_type": "code",
   "execution_count": 55,
   "outputs": [
    {
     "data": {
      "text/plain": "       age  gender  occupation  genre\n0  0.80303       1          15      2\n1  0.80303       1          15      0\n2  0.80303       1          15      5\n3  0.80303       1          15      7\n4  0.80303       1          15      3",
      "text/html": "<div>\n<style scoped>\n    .dataframe tbody tr th:only-of-type {\n        vertical-align: middle;\n    }\n\n    .dataframe tbody tr th {\n        vertical-align: top;\n    }\n\n    .dataframe thead th {\n        text-align: right;\n    }\n</style>\n<table border=\"1\" class=\"dataframe\">\n  <thead>\n    <tr style=\"text-align: right;\">\n      <th></th>\n      <th>age</th>\n      <th>gender</th>\n      <th>occupation</th>\n      <th>genre</th>\n    </tr>\n  </thead>\n  <tbody>\n    <tr>\n      <th>0</th>\n      <td>0.80303</td>\n      <td>1</td>\n      <td>15</td>\n      <td>2</td>\n    </tr>\n    <tr>\n      <th>1</th>\n      <td>0.80303</td>\n      <td>1</td>\n      <td>15</td>\n      <td>0</td>\n    </tr>\n    <tr>\n      <th>2</th>\n      <td>0.80303</td>\n      <td>1</td>\n      <td>15</td>\n      <td>5</td>\n    </tr>\n    <tr>\n      <th>3</th>\n      <td>0.80303</td>\n      <td>1</td>\n      <td>15</td>\n      <td>7</td>\n    </tr>\n    <tr>\n      <th>4</th>\n      <td>0.80303</td>\n      <td>1</td>\n      <td>15</td>\n      <td>3</td>\n    </tr>\n  </tbody>\n</table>\n</div>"
     },
     "execution_count": 55,
     "metadata": {},
     "output_type": "execute_result"
    }
   ],
   "source": [
    "df_deep.head()"
   ],
   "metadata": {
    "collapsed": false,
    "ExecuteTime": {
     "end_time": "2023-12-03T05:48:08.244452300Z",
     "start_time": "2023-12-03T05:48:08.233453900Z"
    }
   },
   "id": "fb87464d95b9ccf2"
  },
  {
   "cell_type": "code",
   "execution_count": 56,
   "outputs": [],
   "source": [
    "# Split data\n",
    "X = pd.concat([df_wide, df_deep], axis=1)\n",
    "y = df[['rating']]\n",
    "X_train, X_test, y_train, y_test = train_test_split(X, y, test_size=0.2, random_state=SEED)\n",
    "\n",
    "def prepare_independent_variables(X):\n",
    "    \"\"\"Split X dataframe into its separate input components for the neural network\"\"\"\n",
    "    wide_inputs = X[df_wide.columns].values\n",
    "    categorical_input_1 = X[['gender']].values\n",
    "    categorical_input_2 = X[['occupation']].values\n",
    "    categorical_input_3 = X[['genre']].values\n",
    "    numerical_input = X[['age']].values\n",
    "    return wide_inputs, categorical_input_1, categorical_input_2, categorical_input_3, \\\n",
    "           numerical_input\n",
    "\n",
    "wide_inputs_train, categorical_input_1_train, categorical_input_2_train, categorical_input_3_train, numerical_input_train = prepare_independent_variables(X_train)\n",
    "\n",
    "wide_inputs_test, categorical_input_1_test, categorical_input_2_test, categorical_input_3_test, numerical_input_test = prepare_independent_variables(X_test)\n",
    "\n",
    "y_train = y_train.values\n",
    "y_test = y_test.values"
   ],
   "metadata": {
    "collapsed": false,
    "ExecuteTime": {
     "end_time": "2023-12-03T05:48:08.336452500Z",
     "start_time": "2023-12-03T05:48:08.248451700Z"
    }
   },
   "id": "f017d27caa724a6e"
  },
  {
   "cell_type": "code",
   "execution_count": 57,
   "outputs": [],
   "source": [
    "with open(os.path.join(INTERIM_PATH, 'wide_and_deep_X_train.pkl'),'wb') as f:\n",
    "    pickle.dump([wide_inputs_train, categorical_input_1_train, categorical_input_2_train, categorical_input_3_train, numerical_input_train], f)\n",
    "    \n",
    "with open(os.path.join(INTERIM_PATH, 'wide_and_deep_X_test.pkl'),'wb') as f:\n",
    "    pickle.dump([wide_inputs_test, categorical_input_1_test,categorical_input_2_test, categorical_input_3_test, numerical_input_test], f)\n",
    "    \n",
    "with open(os.path.join(INTERIM_PATH, 'wide_and_deep_Y_train.pkl'),'wb') as f:\n",
    "    pickle.dump(y_train, f)\n",
    "    \n",
    "with open(os.path.join(INTERIM_PATH, 'wide_and_deep_Y_test.pkl'),'wb') as f:\n",
    "    pickle.dump(y_test, f)\n",
    "    \n",
    "    \n",
    "df_wide.to_csv(os.path.join(INTERIM_PATH, 'wide_and_deep_df_wide.csv'))\n",
    "df_deep.to_csv(os.path.join(INTERIM_PATH, 'wide_and_deep_df_deep.csv'))\n",
    "\n",
    "data.drop([\"timestamp\"], axis=1).to_csv(os.path.join(INTERIM_PATH, 'svd_dataset.csv'))"
   ],
   "metadata": {
    "collapsed": false,
    "ExecuteTime": {
     "end_time": "2023-12-03T05:48:09.988452Z",
     "start_time": "2023-12-03T05:48:08.326455600Z"
    }
   },
   "id": "e035627200d9587a"
  },
  {
   "cell_type": "code",
   "execution_count": 57,
   "outputs": [],
   "source": [],
   "metadata": {
    "collapsed": false,
    "ExecuteTime": {
     "end_time": "2023-12-03T05:48:09.996453700Z",
     "start_time": "2023-12-03T05:48:09.980452Z"
    }
   },
   "id": "e0a96b4a8ce990a8"
  }
 ],
 "metadata": {
  "kernelspec": {
   "display_name": "Python 3",
   "language": "python",
   "name": "python3"
  },
  "language_info": {
   "codemirror_mode": {
    "name": "ipython",
    "version": 2
   },
   "file_extension": ".py",
   "mimetype": "text/x-python",
   "name": "python",
   "nbconvert_exporter": "python",
   "pygments_lexer": "ipython2",
   "version": "2.7.6"
  }
 },
 "nbformat": 4,
 "nbformat_minor": 5
}
